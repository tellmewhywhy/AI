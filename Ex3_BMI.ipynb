{
 "cells": [
  {
   "cell_type": "code",
   "execution_count": 1,
   "metadata": {},
   "outputs": [
    {
     "name": "stdin",
     "output_type": "stream",
     "text": [
      "請輸入你的體重(KG公斤): 50\n",
      "請輸入你的身高(CM公分): 160\n"
     ]
    },
    {
     "name": "stdout",
     "output_type": "stream",
     "text": [
      "你的BMI為:\n",
      " 19.5\n",
      "標準體重\n"
     ]
    }
   ],
   "source": [
    "w = int (input(\"請輸入你的體重(KG公斤):\"))\n",
    "h = int (input(\"請輸入你的身高(CM公分):\"))\n",
    "BMI = float(w / ((h / 100) * (h / 100)))\n",
    "print(\"你的BMI為:\\n %.1f\" % (BMI))\n",
    "if BMI >= 35:\n",
    "    print(\"重度肥胖\")\n",
    "elif BMI < 35 and BMI >= 30:\n",
    "    print(\"中度肥胖\")\n",
    "elif BMI < 30 and BMI >= 27:\n",
    "    print(\"輕度肥胖\")\n",
    "elif BMI < 27 and BMI >= 24:\n",
    "    print(\"過重\")\n",
    "elif BMI < 24 and BMI >= 18.5:\n",
    "    print(\"標準體重\")\n",
    "elif BMI < 18.5:\n",
    "    print(\"過輕\")"
   ]
  },
  {
   "cell_type": "code",
   "execution_count": null,
   "metadata": {},
   "outputs": [],
   "source": []
  }
 ],
 "metadata": {
  "kernelspec": {
   "display_name": "Python 3",
   "language": "python",
   "name": "python3"
  },
  "language_info": {
   "codemirror_mode": {
    "name": "ipython",
    "version": 3
   },
   "file_extension": ".py",
   "mimetype": "text/x-python",
   "name": "python",
   "nbconvert_exporter": "python",
   "pygments_lexer": "ipython3",
   "version": "3.7.4"
  }
 },
 "nbformat": 4,
 "nbformat_minor": 4
}
